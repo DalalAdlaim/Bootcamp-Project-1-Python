{
  "nbformat": 4,
  "nbformat_minor": 0,
  "metadata": {
    "colab": {
      "provenance": [],
      "collapsed_sections": []
    },
    "kernelspec": {
      "name": "python3",
      "display_name": "Python 3"
    },
    "language_info": {
      "name": "python"
    }
  },
  "cells": [
    {
      "cell_type": "markdown",
      "source": [],
      "metadata": {
        "id": "11_zt60n9zsl"
      }
    },
    {
      "cell_type": "code",
      "execution_count": 4,
      "metadata": {
        "id": "6dvcZvG02RxD",
        "colab": {
          "base_uri": "https://localhost:8080/"
        },
        "outputId": "2768e117-0246-486c-a376-6e194704737e"
      },
      "outputs": [
        {
          "output_type": "stream",
          "name": "stdout",
          "text": [
            "how many characters for the password? :8\n",
            "password is  qKdO0?8@\n"
          ]
        }
      ],
      "source": [
        "import string\n",
        "import random \n",
        "\n",
        "\n",
        "a=list(string.ascii_lowercase)\n",
        "u=list(string.ascii_uppercase)\n",
        "d=list(string.digits)\n",
        "p=list(string.punctuation)\n",
        "\n",
        "\n",
        "random.shuffle(a)\n",
        "random.shuffle(u)\n",
        "random.shuffle(d)\n",
        "random.shuffle(p)\n",
        "\n",
        "\n",
        "l=input(\"how many characters for the password? :\")\n",
        "l=int(l)\n",
        "\n",
        "part1= round(l*(30/100))\n",
        "part2=( round(l*(20/100)))\n",
        "\n",
        "def creat_pwd(length):\n",
        "  pwd =[]\n",
        "  for i in range(part1):\n",
        "    pwd.append(a[i])\n",
        "    pwd.append(u[i])\n",
        "  for i in range(part2):\n",
        "    pwd.append(d[i])\n",
        "    pwd.append(p[i])\n",
        "\n",
        "  pwd = \"\".join(pwd[0:]) \n",
        "  return pwd\n",
        "\n",
        "print(\"password is \",creat_pwd(l))\n",
        "\n",
        "\n"
      ]
    },
    {
      "cell_type": "code",
      "source": [],
      "metadata": {
        "id": "7o31lOVMOVxf"
      },
      "execution_count": null,
      "outputs": []
    }
  ]
}